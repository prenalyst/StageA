{
 "cells": [
  {
   "cell_type": "markdown",
   "metadata": {},
   "source": [
    "# Introduction"
   ]
  },
  {
   "cell_type": "markdown",
   "metadata": {},
   "source": [
    "In this project, we will work with a **fuel quality data** containing thousands of rows. The dataset is provided by the United States Energy Information Administration and contains information on the fuel type, fuel quantity, power plant producing the fuel and various fuel costs.\n",
    "\n",
    "The aim of this project is to:\n",
    "\n",
    "- Explore operating costs of power plants. \n",
    "\n",
    "- See how fuel costs impact the viability of generation sources. \n",
    "\n",
    "- Highlight the competitiveness of renewable electricity. \n",
    "\n",
    "- Show how generation mix of different utilities evolved over time.\n",
    "\n",
    "The *data dictionary* provided with the data is as follows:\n",
    "\n",
    "\n",
    "- <span style='color:green'>**record_id**</span> \\- record id \n",
    "\n",
    "\n",
    "- <span style='color:green'>**utility_id_ferc1**</span> \\- Utility id assigned by the FERC\n",
    "\n",
    "\n",
    "- <span style='color:green'>**report_year**</span> \\- year of report\n",
    "\n",
    "\n",
    "- <span style='color:green'>**plant_name_ferc1**</span> \\- the name of the plant\n",
    "\n",
    "\n",
    "- <span style='color:green'>**fuel_type_code_pudl**</span> \\- the type of fuel\n",
    "\n",
    "\n",
    "- <span style='color:green'>**fuel_unit**</span> \\- the unit of fuel\n",
    "\n",
    "\n",
    "- <span style='color:green'>**fuel_qty_burned**</span> \\- the quantity of fuel burned\n",
    "\n",
    "\n",
    "- <span style='color:green'>**fuel_mmbtu_per_unit**</span> \\- the measure of energy per unit\n",
    "\n",
    "\n",
    "- <span style='color:green'>**fuel_cost_per_unit_burned**</span> \\- the fuel cost per unit burned\n",
    "\n",
    "\n",
    "- <span style='color:green'>**fuel_cost_per_unit_delivered**</span> \\- the cost of fuel delivered per unit \n",
    "\n",
    "\n",
    "- <span style='color:green'>**fuel_cost_per_mmbtu**</span> \\- the cost of fuel per mmbtu\n",
    "\n"
   ]
  },
  {
   "cell_type": "markdown",
   "metadata": {},
   "source": [
    "## Reading in the Data"
   ]
  },
  {
   "cell_type": "code",
   "execution_count": 1,
   "metadata": {},
   "outputs": [],
   "source": [
    "import numpy as np\n",
    "import pandas as pd\n",
    "import matplotlib.pyplot as plt\n",
    "import seaborn as sns\n",
    "%matplotlib inline"
   ]
  },
  {
   "cell_type": "code",
   "execution_count": 3,
   "metadata": {
    "code_folding": [],
    "deletable": false,
    "editable": false,
    "run_control": {
     "frozen": true
    }
   },
   "outputs": [],
   "source": [
    "url_path = 'https://raw.githubusercontent.com/WalePhenomenon/climate_change/master/fuel_ferc1.csv' \n",
    "data = pd.read_csv(url_path)\n",
    "data.to_csv('/storage/emulated/0/Hamoye/Stage A/util.csv', index=False)"
   ]
  },
  {
   "cell_type": "code",
   "execution_count": 2,
   "metadata": {},
   "outputs": [],
   "source": [
    "utilities = pd.read_csv('/storage/emulated/0/Hamoye/Stage A/utility.csv')\n"
   ]
  },
  {
   "cell_type": "code",
   "execution_count": 3,
   "metadata": {},
   "outputs": [
    {
     "data": {
      "text/html": [
       "<div>\n",
       "<style scoped>\n",
       "    .dataframe tbody tr th:only-of-type {\n",
       "        vertical-align: middle;\n",
       "    }\n",
       "\n",
       "    .dataframe tbody tr th {\n",
       "        vertical-align: top;\n",
       "    }\n",
       "\n",
       "    .dataframe thead th {\n",
       "        text-align: right;\n",
       "    }\n",
       "</style>\n",
       "<table border=\"1\" class=\"dataframe\">\n",
       "  <thead>\n",
       "    <tr style=\"text-align: right;\">\n",
       "      <th></th>\n",
       "      <th>record_id</th>\n",
       "      <th>utility_id_ferc1</th>\n",
       "      <th>report_year</th>\n",
       "      <th>plant_name_ferc1</th>\n",
       "      <th>fuel_type_code_pudl</th>\n",
       "      <th>fuel_unit</th>\n",
       "      <th>fuel_qty_burned</th>\n",
       "      <th>fuel_mmbtu_per_unit</th>\n",
       "      <th>fuel_cost_per_unit_burned</th>\n",
       "      <th>fuel_cost_per_unit_delivered</th>\n",
       "      <th>fuel_cost_per_mmbtu</th>\n",
       "    </tr>\n",
       "  </thead>\n",
       "  <tbody>\n",
       "    <tr>\n",
       "      <th>0</th>\n",
       "      <td>f1_fuel_1994_12_1_0_7</td>\n",
       "      <td>1</td>\n",
       "      <td>1994</td>\n",
       "      <td>rockport</td>\n",
       "      <td>coal</td>\n",
       "      <td>ton</td>\n",
       "      <td>5377489.0</td>\n",
       "      <td>16.590</td>\n",
       "      <td>18.59</td>\n",
       "      <td>18.53</td>\n",
       "      <td>1.121</td>\n",
       "    </tr>\n",
       "    <tr>\n",
       "      <th>1</th>\n",
       "      <td>f1_fuel_1994_12_1_0_10</td>\n",
       "      <td>1</td>\n",
       "      <td>1994</td>\n",
       "      <td>rockport total plant</td>\n",
       "      <td>coal</td>\n",
       "      <td>ton</td>\n",
       "      <td>10486945.0</td>\n",
       "      <td>16.592</td>\n",
       "      <td>18.58</td>\n",
       "      <td>18.53</td>\n",
       "      <td>1.120</td>\n",
       "    </tr>\n",
       "    <tr>\n",
       "      <th>2</th>\n",
       "      <td>f1_fuel_1994_12_2_0_1</td>\n",
       "      <td>2</td>\n",
       "      <td>1994</td>\n",
       "      <td>gorgas</td>\n",
       "      <td>coal</td>\n",
       "      <td>ton</td>\n",
       "      <td>2978683.0</td>\n",
       "      <td>24.130</td>\n",
       "      <td>39.72</td>\n",
       "      <td>38.12</td>\n",
       "      <td>1.650</td>\n",
       "    </tr>\n",
       "    <tr>\n",
       "      <th>3</th>\n",
       "      <td>f1_fuel_1994_12_2_0_7</td>\n",
       "      <td>2</td>\n",
       "      <td>1994</td>\n",
       "      <td>barry</td>\n",
       "      <td>coal</td>\n",
       "      <td>ton</td>\n",
       "      <td>3739484.0</td>\n",
       "      <td>23.950</td>\n",
       "      <td>47.21</td>\n",
       "      <td>45.99</td>\n",
       "      <td>1.970</td>\n",
       "    </tr>\n",
       "    <tr>\n",
       "      <th>4</th>\n",
       "      <td>f1_fuel_1994_12_2_0_10</td>\n",
       "      <td>2</td>\n",
       "      <td>1994</td>\n",
       "      <td>chickasaw</td>\n",
       "      <td>gas</td>\n",
       "      <td>mcf</td>\n",
       "      <td>40533.0</td>\n",
       "      <td>1.000</td>\n",
       "      <td>2.77</td>\n",
       "      <td>2.77</td>\n",
       "      <td>2.570</td>\n",
       "    </tr>\n",
       "  </tbody>\n",
       "</table>\n",
       "</div>"
      ],
      "text/plain": [
       "                record_id  utility_id_ferc1  report_year  \\\n",
       "0   f1_fuel_1994_12_1_0_7                 1         1994   \n",
       "1  f1_fuel_1994_12_1_0_10                 1         1994   \n",
       "2   f1_fuel_1994_12_2_0_1                 2         1994   \n",
       "3   f1_fuel_1994_12_2_0_7                 2         1994   \n",
       "4  f1_fuel_1994_12_2_0_10                 2         1994   \n",
       "\n",
       "       plant_name_ferc1 fuel_type_code_pudl fuel_unit  fuel_qty_burned  \\\n",
       "0              rockport                coal       ton        5377489.0   \n",
       "1  rockport total plant                coal       ton       10486945.0   \n",
       "2                gorgas                coal       ton        2978683.0   \n",
       "3                 barry                coal       ton        3739484.0   \n",
       "4             chickasaw                 gas       mcf          40533.0   \n",
       "\n",
       "   fuel_mmbtu_per_unit  fuel_cost_per_unit_burned  \\\n",
       "0               16.590                      18.59   \n",
       "1               16.592                      18.58   \n",
       "2               24.130                      39.72   \n",
       "3               23.950                      47.21   \n",
       "4                1.000                       2.77   \n",
       "\n",
       "   fuel_cost_per_unit_delivered  fuel_cost_per_mmbtu  \n",
       "0                         18.53                1.121  \n",
       "1                         18.53                1.120  \n",
       "2                         38.12                1.650  \n",
       "3                         45.99                1.970  \n",
       "4                          2.77                2.570  "
      ]
     },
     "execution_count": 3,
     "metadata": {},
     "output_type": "execute_result"
    }
   ],
   "source": [
    "utilities.head()"
   ]
  },
  {
   "cell_type": "markdown",
   "metadata": {},
   "source": [
    "Now let's use the `DataFrame.info()` method to display information about the `utilities` dataframe"
   ]
  },
  {
   "cell_type": "code",
   "execution_count": 4,
   "metadata": {
    "cell_style": "center"
   },
   "outputs": [
    {
     "name": "stdout",
     "output_type": "stream",
     "text": [
      "<class 'pandas.core.frame.DataFrame'>\n",
      "RangeIndex: 29523 entries, 0 to 29522\n",
      "Data columns (total 11 columns):\n",
      " #   Column                        Non-Null Count  Dtype  \n",
      "---  ------                        --------------  -----  \n",
      " 0   record_id                     29523 non-null  object \n",
      " 1   utility_id_ferc1              29523 non-null  int64  \n",
      " 2   report_year                   29523 non-null  int64  \n",
      " 3   plant_name_ferc1              29523 non-null  object \n",
      " 4   fuel_type_code_pudl           29523 non-null  object \n",
      " 5   fuel_unit                     29343 non-null  object \n",
      " 6   fuel_qty_burned               29523 non-null  float64\n",
      " 7   fuel_mmbtu_per_unit           29523 non-null  float64\n",
      " 8   fuel_cost_per_unit_burned     29523 non-null  float64\n",
      " 9   fuel_cost_per_unit_delivered  29523 non-null  float64\n",
      " 10  fuel_cost_per_mmbtu           29523 non-null  float64\n",
      "dtypes: float64(5), int64(2), object(4)\n",
      "memory usage: 2.5+ MB\n"
     ]
    }
   ],
   "source": [
    "utilities.info()"
   ]
  },
  {
   "cell_type": "markdown",
   "metadata": {},
   "source": [
    "From the previous cell, we can see that the columns are represented by various data types: \n",
    "\n",
    "- *`int64`*\n",
    "\n",
    "- *`object`*\n",
    "\n",
    "- *`float64`*\n",
    "\n",
    "It appears that the data type for each column is consistent with the nature of values they contain. That is, the columns containing numeric objects are either `int64` or `float64`, and those containing values stored as strings are stored as `object` data type.\n",
    "\n",
    "Also, there are **29,523** entries in the data, and all the columns are consistent with that figure except the `fuel_unit` column. This indicates that it has some *null* values in it.\n",
    "\n",
    "Let's handle the missing data."
   ]
  },
  {
   "cell_type": "markdown",
   "metadata": {},
   "source": [
    "## Cleaning the Data"
   ]
  },
  {
   "cell_type": "markdown",
   "metadata": {},
   "source": [
    "The `fuel_unit` column which has some missing data has an *object* data type, this means we can't just fill with any conventional imputing method as the values aren't numerical ones. \n",
    "\n",
    "We are left with either of the two options:\n",
    "\n",
    "- drop the rows that has null values present in them\n",
    "\n",
    "- see if an inference can be made by looking at the properties of other entries to plausibly determine what the missing values should be.\n",
    "\n",
    "Since there are only **180** missing values in the `fuel_unit` column, dropping the rows with these null values may seem the way to go, as they account for just about **0.6%** of the total entries. But first, let's see if we can infer from the dataset the missing values.\n",
    "\n",
    "Let's take a look at these rows containing null values."
   ]
  },
  {
   "cell_type": "code",
   "execution_count": 5,
   "metadata": {},
   "outputs": [],
   "source": [
    "null_fuel_unit = utilities[utilities['fuel_unit'].isnull()]"
   ]
  },
  {
   "cell_type": "code",
   "execution_count": 6,
   "metadata": {
    "scrolled": true
   },
   "outputs": [
    {
     "data": {
      "text/html": [
       "<div>\n",
       "<style scoped>\n",
       "    .dataframe tbody tr th:only-of-type {\n",
       "        vertical-align: middle;\n",
       "    }\n",
       "\n",
       "    .dataframe tbody tr th {\n",
       "        vertical-align: top;\n",
       "    }\n",
       "\n",
       "    .dataframe thead th {\n",
       "        text-align: right;\n",
       "    }\n",
       "</style>\n",
       "<table border=\"1\" class=\"dataframe\">\n",
       "  <thead>\n",
       "    <tr style=\"text-align: right;\">\n",
       "      <th></th>\n",
       "      <th>record_id</th>\n",
       "      <th>utility_id_ferc1</th>\n",
       "      <th>report_year</th>\n",
       "      <th>plant_name_ferc1</th>\n",
       "      <th>fuel_type_code_pudl</th>\n",
       "      <th>fuel_unit</th>\n",
       "      <th>fuel_qty_burned</th>\n",
       "      <th>fuel_mmbtu_per_unit</th>\n",
       "      <th>fuel_cost_per_unit_burned</th>\n",
       "      <th>fuel_cost_per_unit_delivered</th>\n",
       "      <th>fuel_cost_per_mmbtu</th>\n",
       "    </tr>\n",
       "  </thead>\n",
       "  <tbody>\n",
       "    <tr>\n",
       "      <th>66</th>\n",
       "      <td>f1_fuel_1994_12_9_3_13</td>\n",
       "      <td>9</td>\n",
       "      <td>1994</td>\n",
       "      <td>mickleton</td>\n",
       "      <td>oil</td>\n",
       "      <td>NaN</td>\n",
       "      <td>3547.0</td>\n",
       "      <td>5.606160</td>\n",
       "      <td>41.930</td>\n",
       "      <td>41.77</td>\n",
       "      <td>7.480</td>\n",
       "    </tr>\n",
       "    <tr>\n",
       "      <th>152</th>\n",
       "      <td>f1_fuel_1994_12_8_1_14</td>\n",
       "      <td>8</td>\n",
       "      <td>1994</td>\n",
       "      <td>ar nuclear one</td>\n",
       "      <td>nuclear</td>\n",
       "      <td>NaN</td>\n",
       "      <td>43461380.0</td>\n",
       "      <td>3.412600</td>\n",
       "      <td>1.654</td>\n",
       "      <td>0.00</td>\n",
       "      <td>0.485</td>\n",
       "    </tr>\n",
       "    <tr>\n",
       "      <th>277</th>\n",
       "      <td>f1_fuel_1994_12_74_0_3</td>\n",
       "      <td>74</td>\n",
       "      <td>1994</td>\n",
       "      <td>perry k &amp; w</td>\n",
       "      <td>other</td>\n",
       "      <td>NaN</td>\n",
       "      <td>2654942.0</td>\n",
       "      <td>0.100000</td>\n",
       "      <td>0.044</td>\n",
       "      <td>0.00</td>\n",
       "      <td>0.440</td>\n",
       "    </tr>\n",
       "    <tr>\n",
       "      <th>626</th>\n",
       "      <td>f1_fuel_1994_12_117_0_1</td>\n",
       "      <td>117</td>\n",
       "      <td>1994</td>\n",
       "      <td>nine mile unit 1</td>\n",
       "      <td>nuclear</td>\n",
       "      <td>NaN</td>\n",
       "      <td>401216.0</td>\n",
       "      <td>0.127467</td>\n",
       "      <td>78.446</td>\n",
       "      <td>0.00</td>\n",
       "      <td>0.615</td>\n",
       "    </tr>\n",
       "    <tr>\n",
       "      <th>627</th>\n",
       "      <td>f1_fuel_1994_12_117_0_4</td>\n",
       "      <td>117</td>\n",
       "      <td>1994</td>\n",
       "      <td>nine mile unit 2</td>\n",
       "      <td>nuclear</td>\n",
       "      <td>NaN</td>\n",
       "      <td>313736.0</td>\n",
       "      <td>0.119756</td>\n",
       "      <td>57.534</td>\n",
       "      <td>0.00</td>\n",
       "      <td>0.480</td>\n",
       "    </tr>\n",
       "    <tr>\n",
       "      <th>829</th>\n",
       "      <td>f1_fuel_1994_12_189_0_1</td>\n",
       "      <td>189</td>\n",
       "      <td>1994</td>\n",
       "      <td>lake pauline</td>\n",
       "      <td>gas</td>\n",
       "      <td>NaN</td>\n",
       "      <td>41121.0</td>\n",
       "      <td>1.006000</td>\n",
       "      <td>2.400</td>\n",
       "      <td>2.40</td>\n",
       "      <td>2.380</td>\n",
       "    </tr>\n",
       "    <tr>\n",
       "      <th>830</th>\n",
       "      <td>f1_fuel_1994_12_189_0_4</td>\n",
       "      <td>189</td>\n",
       "      <td>1994</td>\n",
       "      <td>fort phantom</td>\n",
       "      <td>gas</td>\n",
       "      <td>NaN</td>\n",
       "      <td>17436721.0</td>\n",
       "      <td>1.004051</td>\n",
       "      <td>2.420</td>\n",
       "      <td>2.42</td>\n",
       "      <td>2.410</td>\n",
       "    </tr>\n",
       "    <tr>\n",
       "      <th>832</th>\n",
       "      <td>f1_fuel_1994_12_189_0_7</td>\n",
       "      <td>189</td>\n",
       "      <td>1994</td>\n",
       "      <td>rio pecos</td>\n",
       "      <td>gas</td>\n",
       "      <td>NaN</td>\n",
       "      <td>8488412.0</td>\n",
       "      <td>0.950000</td>\n",
       "      <td>1.720</td>\n",
       "      <td>1.72</td>\n",
       "      <td>1.810</td>\n",
       "    </tr>\n",
       "    <tr>\n",
       "      <th>834</th>\n",
       "      <td>f1_fuel_1994_12_189_0_13</td>\n",
       "      <td>189</td>\n",
       "      <td>1994</td>\n",
       "      <td>paint creek</td>\n",
       "      <td>gas</td>\n",
       "      <td>NaN</td>\n",
       "      <td>3636694.0</td>\n",
       "      <td>0.993000</td>\n",
       "      <td>2.050</td>\n",
       "      <td>2.05</td>\n",
       "      <td>2.070</td>\n",
       "    </tr>\n",
       "    <tr>\n",
       "      <th>835</th>\n",
       "      <td>f1_fuel_1994_12_189_1_1</td>\n",
       "      <td>189</td>\n",
       "      <td>1994</td>\n",
       "      <td>oak creek</td>\n",
       "      <td>gas</td>\n",
       "      <td>NaN</td>\n",
       "      <td>3349167.0</td>\n",
       "      <td>1.002000</td>\n",
       "      <td>2.060</td>\n",
       "      <td>2.06</td>\n",
       "      <td>2.060</td>\n",
       "    </tr>\n",
       "  </tbody>\n",
       "</table>\n",
       "</div>"
      ],
      "text/plain": [
       "                    record_id  utility_id_ferc1  report_year  \\\n",
       "66     f1_fuel_1994_12_9_3_13                 9         1994   \n",
       "152    f1_fuel_1994_12_8_1_14                 8         1994   \n",
       "277    f1_fuel_1994_12_74_0_3                74         1994   \n",
       "626   f1_fuel_1994_12_117_0_1               117         1994   \n",
       "627   f1_fuel_1994_12_117_0_4               117         1994   \n",
       "829   f1_fuel_1994_12_189_0_1               189         1994   \n",
       "830   f1_fuel_1994_12_189_0_4               189         1994   \n",
       "832   f1_fuel_1994_12_189_0_7               189         1994   \n",
       "834  f1_fuel_1994_12_189_0_13               189         1994   \n",
       "835   f1_fuel_1994_12_189_1_1               189         1994   \n",
       "\n",
       "     plant_name_ferc1 fuel_type_code_pudl fuel_unit  fuel_qty_burned  \\\n",
       "66          mickleton                 oil       NaN           3547.0   \n",
       "152    ar nuclear one             nuclear       NaN       43461380.0   \n",
       "277       perry k & w               other       NaN        2654942.0   \n",
       "626  nine mile unit 1             nuclear       NaN         401216.0   \n",
       "627  nine mile unit 2             nuclear       NaN         313736.0   \n",
       "829      lake pauline                 gas       NaN          41121.0   \n",
       "830      fort phantom                 gas       NaN       17436721.0   \n",
       "832         rio pecos                 gas       NaN        8488412.0   \n",
       "834       paint creek                 gas       NaN        3636694.0   \n",
       "835         oak creek                 gas       NaN        3349167.0   \n",
       "\n",
       "     fuel_mmbtu_per_unit  fuel_cost_per_unit_burned  \\\n",
       "66              5.606160                     41.930   \n",
       "152             3.412600                      1.654   \n",
       "277             0.100000                      0.044   \n",
       "626             0.127467                     78.446   \n",
       "627             0.119756                     57.534   \n",
       "829             1.006000                      2.400   \n",
       "830             1.004051                      2.420   \n",
       "832             0.950000                      1.720   \n",
       "834             0.993000                      2.050   \n",
       "835             1.002000                      2.060   \n",
       "\n",
       "     fuel_cost_per_unit_delivered  fuel_cost_per_mmbtu  \n",
       "66                          41.77                7.480  \n",
       "152                          0.00                0.485  \n",
       "277                          0.00                0.440  \n",
       "626                          0.00                0.615  \n",
       "627                          0.00                0.480  \n",
       "829                          2.40                2.380  \n",
       "830                          2.42                2.410  \n",
       "832                          1.72                1.810  \n",
       "834                          2.05                2.070  \n",
       "835                          2.06                2.060  "
      ]
     },
     "execution_count": 6,
     "metadata": {},
     "output_type": "execute_result"
    }
   ],
   "source": [
    "null_fuel_unit.head(10)"
   ]
  },
  {
   "cell_type": "markdown",
   "metadata": {},
   "source": [
    "The idea here is to determine if we can infer the value for the `fuel_unit` column from the corresponding `fuel_type_code_pudl` column. \n",
    "\n",
    "If a particular type of fuel **always** have the same value for the `fuel_unit` column, consequently we will be able to determine what the null values in the `fuel_unit` column should be by simply looking at the `fuel_type_code_pudl` column.\n",
    "\n",
    "Let's print out the unique values in the `fuel_type_code_pudl` column of the `null_fuel_unit` dataframe."
   ]
  },
  {
   "cell_type": "code",
   "execution_count": 7,
   "metadata": {},
   "outputs": [
    {
     "data": {
      "text/plain": [
       "['oil', 'nuclear', 'other', 'gas', 'coal', 'waste']"
      ]
     },
     "execution_count": 7,
     "metadata": {},
     "output_type": "execute_result"
    }
   ],
   "source": [
    "unique_fuel_type = [value for value in null_fuel_unit['fuel_type_code_pudl'].unique()]\n",
    "\n",
    "unique_fuel_type"
   ]
  },
  {
   "cell_type": "markdown",
   "metadata": {},
   "source": [
    "We can then iterate through the values in the `unique_fuel_type` variable and display the fuel unit corresponding to them in the original dataframe. If any type of fuel always have the same fuel unit, then we can fill-in that value in the dataframe wherever a unit is missing."
   ]
  },
  {
   "cell_type": "code",
   "execution_count": 8,
   "metadata": {},
   "outputs": [
    {
     "name": "stdout",
     "output_type": "stream",
     "text": [
      "Fuel unit(s) for Oil is... \n",
      " bbl    7952\n",
      "gal      81\n",
      "mcf       7\n",
      "ton       3\n",
      "Name: fuel_unit, dtype: int64\n",
      "Fuel unit(s) for Nuclear is... \n",
      " gramsU    464\n",
      "kgU       110\n",
      "mwhth     100\n",
      "mwdth      95\n",
      "mmbtu      34\n",
      "Name: fuel_unit, dtype: int64\n",
      "Fuel unit(s) for Other is... \n",
      " ton    77\n",
      "bbl    42\n",
      "mcf     9\n",
      "gal     3\n",
      "Name: fuel_unit, dtype: int64\n",
      "Fuel unit(s) for Gas is... \n",
      " mcf      11333\n",
      "mmbtu       94\n",
      "ton          4\n",
      "bbl          2\n",
      "Name: fuel_unit, dtype: int64\n",
      "Fuel unit(s) for Coal is... \n",
      " ton      8438\n",
      "mmbtu      52\n",
      "mcf         5\n",
      "bbl         1\n",
      "Name: fuel_unit, dtype: int64\n",
      "Fuel unit(s) for Waste is... \n",
      " ton    436\n",
      "bbl      1\n",
      "Name: fuel_unit, dtype: int64\n"
     ]
    }
   ],
   "source": [
    "for value in unique_fuel_type:\n",
    "    fuel_type = utilities[utilities['fuel_type_code_pudl']==value]\n",
    "    fuel_type = fuel_type['fuel_unit'].value_counts()\n",
    "    print ('Fuel unit(s) for %s is...' %value.title(), '\\n', fuel_type)"
   ]
  },
  {
   "cell_type": "markdown",
   "metadata": {},
   "source": [
    "From the above cell, none of the fuel types have one single ***unit*** as its fuel unit. Although some units are of a higher frequencies than others, it would be better to drop these rows entirely rather than compromise the data with inconsistent values. It is important to know that the null values constitute only **0.6%** of our total values, we can go ahead with dropping the null values in the `utilities` dataframe."
   ]
  },
  {
   "cell_type": "code",
   "execution_count": 9,
   "metadata": {},
   "outputs": [],
   "source": [
    "utilities.dropna(inplace=True)"
   ]
  },
  {
   "cell_type": "code",
   "execution_count": 10,
   "metadata": {},
   "outputs": [
    {
     "name": "stdout",
     "output_type": "stream",
     "text": [
      "<class 'pandas.core.frame.DataFrame'>\n",
      "Int64Index: 29343 entries, 0 to 29522\n",
      "Data columns (total 11 columns):\n",
      " #   Column                        Non-Null Count  Dtype  \n",
      "---  ------                        --------------  -----  \n",
      " 0   record_id                     29343 non-null  object \n",
      " 1   utility_id_ferc1              29343 non-null  int64  \n",
      " 2   report_year                   29343 non-null  int64  \n",
      " 3   plant_name_ferc1              29343 non-null  object \n",
      " 4   fuel_type_code_pudl           29343 non-null  object \n",
      " 5   fuel_unit                     29343 non-null  object \n",
      " 6   fuel_qty_burned               29343 non-null  float64\n",
      " 7   fuel_mmbtu_per_unit           29343 non-null  float64\n",
      " 8   fuel_cost_per_unit_burned     29343 non-null  float64\n",
      " 9   fuel_cost_per_unit_delivered  29343 non-null  float64\n",
      " 10  fuel_cost_per_mmbtu           29343 non-null  float64\n",
      "dtypes: float64(5), int64(2), object(4)\n",
      "memory usage: 2.7+ MB\n"
     ]
    }
   ],
   "source": [
    "utilities.info()"
   ]
  },
  {
   "cell_type": "markdown",
   "metadata": {},
   "source": [
    "It appears that there is no further cleaning to be done with the dataset. Let's move on to further exploring the data."
   ]
  },
  {
   "cell_type": "markdown",
   "metadata": {
    "scrolled": true
   },
   "source": [
    "## How does fuel costs impact the viability of generation sources? "
   ]
  },
  {
   "cell_type": "markdown",
   "metadata": {},
   "source": [
    "Let's take a quick look at the first few rows of our dataframe"
   ]
  },
  {
   "cell_type": "code",
   "execution_count": 12,
   "metadata": {},
   "outputs": [
    {
     "data": {
      "text/html": [
       "<div>\n",
       "<style scoped>\n",
       "    .dataframe tbody tr th:only-of-type {\n",
       "        vertical-align: middle;\n",
       "    }\n",
       "\n",
       "    .dataframe tbody tr th {\n",
       "        vertical-align: top;\n",
       "    }\n",
       "\n",
       "    .dataframe thead th {\n",
       "        text-align: right;\n",
       "    }\n",
       "</style>\n",
       "<table border=\"1\" class=\"dataframe\">\n",
       "  <thead>\n",
       "    <tr style=\"text-align: right;\">\n",
       "      <th></th>\n",
       "      <th>record_id</th>\n",
       "      <th>utility_id_ferc1</th>\n",
       "      <th>report_year</th>\n",
       "      <th>plant_name_ferc1</th>\n",
       "      <th>fuel_type_code_pudl</th>\n",
       "      <th>fuel_unit</th>\n",
       "      <th>fuel_qty_burned</th>\n",
       "      <th>fuel_mmbtu_per_unit</th>\n",
       "      <th>fuel_cost_per_unit_burned</th>\n",
       "      <th>fuel_cost_per_unit_delivered</th>\n",
       "      <th>fuel_cost_per_mmbtu</th>\n",
       "    </tr>\n",
       "  </thead>\n",
       "  <tbody>\n",
       "    <tr>\n",
       "      <th>0</th>\n",
       "      <td>f1_fuel_1994_12_1_0_7</td>\n",
       "      <td>1</td>\n",
       "      <td>1994</td>\n",
       "      <td>rockport</td>\n",
       "      <td>coal</td>\n",
       "      <td>ton</td>\n",
       "      <td>5377489.0</td>\n",
       "      <td>16.590</td>\n",
       "      <td>18.59</td>\n",
       "      <td>18.53</td>\n",
       "      <td>1.121</td>\n",
       "    </tr>\n",
       "    <tr>\n",
       "      <th>1</th>\n",
       "      <td>f1_fuel_1994_12_1_0_10</td>\n",
       "      <td>1</td>\n",
       "      <td>1994</td>\n",
       "      <td>rockport total plant</td>\n",
       "      <td>coal</td>\n",
       "      <td>ton</td>\n",
       "      <td>10486945.0</td>\n",
       "      <td>16.592</td>\n",
       "      <td>18.58</td>\n",
       "      <td>18.53</td>\n",
       "      <td>1.120</td>\n",
       "    </tr>\n",
       "    <tr>\n",
       "      <th>2</th>\n",
       "      <td>f1_fuel_1994_12_2_0_1</td>\n",
       "      <td>2</td>\n",
       "      <td>1994</td>\n",
       "      <td>gorgas</td>\n",
       "      <td>coal</td>\n",
       "      <td>ton</td>\n",
       "      <td>2978683.0</td>\n",
       "      <td>24.130</td>\n",
       "      <td>39.72</td>\n",
       "      <td>38.12</td>\n",
       "      <td>1.650</td>\n",
       "    </tr>\n",
       "    <tr>\n",
       "      <th>3</th>\n",
       "      <td>f1_fuel_1994_12_2_0_7</td>\n",
       "      <td>2</td>\n",
       "      <td>1994</td>\n",
       "      <td>barry</td>\n",
       "      <td>coal</td>\n",
       "      <td>ton</td>\n",
       "      <td>3739484.0</td>\n",
       "      <td>23.950</td>\n",
       "      <td>47.21</td>\n",
       "      <td>45.99</td>\n",
       "      <td>1.970</td>\n",
       "    </tr>\n",
       "    <tr>\n",
       "      <th>4</th>\n",
       "      <td>f1_fuel_1994_12_2_0_10</td>\n",
       "      <td>2</td>\n",
       "      <td>1994</td>\n",
       "      <td>chickasaw</td>\n",
       "      <td>gas</td>\n",
       "      <td>mcf</td>\n",
       "      <td>40533.0</td>\n",
       "      <td>1.000</td>\n",
       "      <td>2.77</td>\n",
       "      <td>2.77</td>\n",
       "      <td>2.570</td>\n",
       "    </tr>\n",
       "  </tbody>\n",
       "</table>\n",
       "</div>"
      ],
      "text/plain": [
       "                record_id  utility_id_ferc1  report_year  \\\n",
       "0   f1_fuel_1994_12_1_0_7                 1         1994   \n",
       "1  f1_fuel_1994_12_1_0_10                 1         1994   \n",
       "2   f1_fuel_1994_12_2_0_1                 2         1994   \n",
       "3   f1_fuel_1994_12_2_0_7                 2         1994   \n",
       "4  f1_fuel_1994_12_2_0_10                 2         1994   \n",
       "\n",
       "       plant_name_ferc1 fuel_type_code_pudl fuel_unit  fuel_qty_burned  \\\n",
       "0              rockport                coal       ton        5377489.0   \n",
       "1  rockport total plant                coal       ton       10486945.0   \n",
       "2                gorgas                coal       ton        2978683.0   \n",
       "3                 barry                coal       ton        3739484.0   \n",
       "4             chickasaw                 gas       mcf          40533.0   \n",
       "\n",
       "   fuel_mmbtu_per_unit  fuel_cost_per_unit_burned  \\\n",
       "0               16.590                      18.59   \n",
       "1               16.592                      18.58   \n",
       "2               24.130                      39.72   \n",
       "3               23.950                      47.21   \n",
       "4                1.000                       2.77   \n",
       "\n",
       "   fuel_cost_per_unit_delivered  fuel_cost_per_mmbtu  \n",
       "0                         18.53                1.121  \n",
       "1                         18.53                1.120  \n",
       "2                         38.12                1.650  \n",
       "3                         45.99                1.970  \n",
       "4                          2.77                2.570  "
      ]
     },
     "execution_count": 12,
     "metadata": {},
     "output_type": "execute_result"
    }
   ],
   "source": [
    "utilities.head()"
   ]
  },
  {
   "cell_type": "markdown",
   "metadata": {},
   "source": [
    "The column corresponding to the generation sources is the `fuel_type_code_pudl` column. This is where we have the type of fuel used in generating electricity. Let's see the various generation sources we have before performing further analysis on them."
   ]
  },
  {
   "cell_type": "code",
   "execution_count": 13,
   "metadata": {},
   "outputs": [
    {
     "data": {
      "text/plain": [
       "6"
      ]
     },
     "execution_count": 13,
     "metadata": {},
     "output_type": "execute_result"
    }
   ],
   "source": [
    "utilities['fuel_type_code_pudl'].nunique()"
   ]
  },
  {
   "cell_type": "code",
   "execution_count": 14,
   "metadata": {
    "scrolled": true
   },
   "outputs": [
    {
     "data": {
      "text/plain": [
       "gas        11433\n",
       "coal        8496\n",
       "oil         8043\n",
       "nuclear      803\n",
       "waste        437\n",
       "other        131\n",
       "Name: fuel_type_code_pudl, dtype: int64"
      ]
     },
     "execution_count": 14,
     "metadata": {},
     "output_type": "execute_result"
    }
   ],
   "source": [
    "utilities['fuel_type_code_pudl'].value_counts()\n"
   ]
  },
  {
   "cell_type": "code",
   "execution_count": 100,
   "metadata": {},
   "outputs": [
    {
     "data": {
      "image/png": "[encoded data removed]",
      "text/plain": [
       "<Figure size 504x288 with 1 Axes>"
      ]
     },
     "metadata": {},
     "output_type": "display_data"
    }
   ],
   "source": [
    "plt.figure(figsize=(7, 4))\n",
    "gen_source_counts = utilities['fuel_type_code_pudl'].value_counts()\n",
    "sns.barplot(x=gen_source_counts.index, y=gen_source_counts.values)\n",
    "plt.xlabel('fuel_type')\n",
    "plt.ylabel('count')\n",
    "sns.despine(bottom=True, left=True)\n",
    "plt.title('Different Generation Sources for Electricity')\n",
    "plt.show()"
   ]
  },
  {
   "cell_type": "markdown",
   "metadata": {},
   "source": [
    "In the last three cells, we can see that there are only `6` generation sources in the `utilities` dataframe, and from the barplot, <span style='color:green'> **gas**, **coal** and **oil**</span> occur more frequently as a fuel source for generating electricity than the rest. This is an indication that they are the predominant generation sources.It is important to appreciate the fact that these three are also non-renewable energy sources. But we will come to that later.\n",
    "\n",
    "We need to find the fuel cost from the values we have. We can derive that with this formula:\n",
    "\n",
    "``` python\n",
    "fuel_cost = fuel_qty_burned * fuel_cost_per_unit_burned\n",
    "\n",
    "```\n",
    "\n",
    "This will be done for every row in the dataframe and the result will be stored in a new column added to the dataframe named `fuel_cost`."
   ]
  },
  {
   "cell_type": "code",
   "execution_count": 28,
   "metadata": {},
   "outputs": [],
   "source": [
    "utilities['fuel_cost'] = utilities['fuel_qty_burned'] * utilities['fuel_cost_per_unit_burned']\n"
   ]
  },
  {
   "cell_type": "markdown",
   "metadata": {},
   "source": [
    "**We want to know how fuel costs impact the viability of the sources generating them.**\n",
    "\n",
    "Using the `DataFrame.groupby()` method, we can group the generating sources and consider the fuel cost corresponding to them."
   ]
  },
  {
   "cell_type": "code",
   "execution_count": 30,
   "metadata": {},
   "outputs": [],
   "source": [
    "fuel_type_grouped = utilities.groupby('fuel_type_code_pudl')"
   ]
  },
  {
   "cell_type": "markdown",
   "metadata": {},
   "source": [
    "We are going to aggregate our result by the `fuel_cost` column and find the mean of fuel costs for different generation sources."
   ]
  },
  {
   "cell_type": "code",
   "execution_count": 33,
   "metadata": {},
   "outputs": [
    {
     "data": {
      "text/plain": [
       "fuel_type_code_pudl\n",
       "coal       1.369070e+08\n",
       "gas        5.396299e+07\n",
       "nuclear    1.047486e+08\n",
       "oil        5.017233e+06\n",
       "other      1.928224e+06\n",
       "waste      2.503598e+06\n",
       "Name: fuel_cost, dtype: float64"
      ]
     },
     "execution_count": 33,
     "metadata": {},
     "output_type": "execute_result"
    }
   ],
   "source": [
    "fuel_type_grouped['fuel_cost'].mean()"
   ]
  },
  {
   "cell_type": "markdown",
   "metadata": {},
   "source": [
    "**Let's visualize the result in a barplot**\n",
    "\n",
    "We are going to store the mean of the fuel costs in a variable named <span style='color:green'>mean_fuel_cost</span>, then we can plot the values by using the `df.index` and `df.values` attributes for our <span style='color:green'>x</span> and <span style='color:green'>y</span> parameters respectively."
   ]
  },
  {
   "cell_type": "code",
   "execution_count": 106,
   "metadata": {},
   "outputs": [
    {
     "data": {
      "image/png": "[encoded data removed]",
      "text/plain": [
       "<Figure size 504x288 with 1 Axes>"
      ]
     },
     "metadata": {},
     "output_type": "display_data"
    }
   ],
   "source": [
    "sns.set_style('white')\n",
    "mean_fuel_cost = fuel_type_grouped['fuel_cost'].mean()\n",
    "fig = plt.figure(figsize=(7, 4))\n",
    "ax = fig.add_subplot(1, 1, 1)\n",
    "sns.barplot(x=mean_fuel_cost.index, y=mean_fuel_cost.values)\n",
    "sns.despine(bottom=True, left=True)\n",
    "plt.xlabel('fuel_type')\n",
    "plt.ylabel('mean_fuel_cost')\n",
    "ax.set_yscale('log')\n",
    "ax.set_ylim(1, 1e+9)\n",
    "plt.title('Mean Fuel Cost for Generation Sources')\n",
    "plt.show()"
   ]
  },
  {
   "cell_type": "markdown",
   "metadata": {},
   "source": [
    "From the barplot, we can observe that both <span style='color:green'>**coal**</span> and <span style='color:green'>**nuclear**</span> have the highest mean fuel cost for generating electricity. In addition, <span style='color:green'>**nuclear**</span> which is assumed to be a **renewable** generation source shows a higher fuel cost than <span style='color:green'>**other**</span> and <span style='color:green'>**waste**</span>."
   ]
  },
  {
   "cell_type": "markdown",
   "metadata": {},
   "source": [
    "## Competitiveness of Renewable Electricity"
   ]
  },
  {
   "cell_type": "markdown",
   "metadata": {},
   "source": [
    "Let's look at the barplot for different generation sources again."
   ]
  },
  {
   "cell_type": "code",
   "execution_count": 107,
   "metadata": {},
   "outputs": [
    {
     "data": {
      "image/png": "[encoded data removed]",
      "text/plain": [
       "<Figure size 504x288 with 1 Axes>"
      ]
     },
     "metadata": {},
     "output_type": "display_data"
    }
   ],
   "source": [
    "plt.figure(figsize=(7, 4))\n",
    "gen_source_counts = utilities['fuel_type_code_pudl'].value_counts()\n",
    "sns.barplot(x=gen_source_counts.index, y=gen_source_counts.values)\n",
    "plt.xlabel('fuel_type')\n",
    "plt.ylabel('count')\n",
    "sns.despine(bottom=True, left=True)\n",
    "plt.title('Different Generation Sources for Electricity')\n",
    "plt.show()"
   ]
  },
  {
   "cell_type": "markdown",
   "metadata": {},
   "source": [
    "<span style='color:green'>**Nuclear, waste**</span> and <span style='color:green'>**other**</span> are the least utilized generation sources. This may be due to the fact that **renewable** sources, erstwhile, is not as widely used as **non-renewables.** \n",
    "\n",
    "Let's filter the `utilities` dataframe with only these three **renewable** sources, boolean-index it, and save it in a new dataframe named `renewables`."
   ]
  },
  {
   "cell_type": "code",
   "execution_count": 56,
   "metadata": {},
   "outputs": [],
   "source": [
    "renewables = utilities[(utilities['fuel_type_code_pudl']=='nuclear') | (utilities['fuel_type_code_pudl']=='waste') | (utilities['fuel_type_code_pudl']=='other')]\n"
   ]
  },
  {
   "cell_type": "code",
   "execution_count": 112,
   "metadata": {},
   "outputs": [
    {
     "data": {
      "text/plain": [
       "1994    100\n",
       "1995    108\n",
       "1996     70\n",
       "1997     64\n",
       "1998     90\n",
       "1999     80\n",
       "2000     78\n",
       "2001     63\n",
       "2002     53\n",
       "2003     46\n",
       "2004     46\n",
       "2005     47\n",
       "2006     47\n",
       "2007     42\n",
       "2008     41\n",
       "2009     45\n",
       "2010     43\n",
       "2011     41\n",
       "2012     40\n",
       "2013     43\n",
       "2014     38\n",
       "2015     39\n",
       "2016     36\n",
       "2017     35\n",
       "2018     36\n",
       "Name: report_year, dtype: int64"
      ]
     },
     "execution_count": 112,
     "metadata": {},
     "output_type": "execute_result"
    }
   ],
   "source": [
    "renewables['report_year'].value_counts().sort_index()\n"
   ]
  },
  {
   "cell_type": "markdown",
   "metadata": {},
   "source": [
    "The above cell shows the total entries for **fuel type** that os categorized as **renewables** to be `1,371`. This can be derived by running the code in the snippet below:\n",
    "\n",
    "```python\n",
    "renewables['report_year'].value_counts().sum()\n",
    "```\n",
    "\n",
    "**To better understand this and look at the trend in the values, let's visualize the data using a lineplot.**"
   ]
  },
  {
   "cell_type": "code",
   "execution_count": 113,
   "metadata": {
    "scrolled": true
   },
   "outputs": [
    {
     "data": {
      "image/png": "[encoded data removed]",
      "text/plain": [
       "<Figure size 504x288 with 1 Axes>"
      ]
     },
     "metadata": {},
     "output_type": "display_data"
    }
   ],
   "source": [
    "fig = plt.figure(figsize=(7, 4))\n",
    "sns.set_style('white')\n",
    "ax = fig.add_subplot(1,1,1)\n",
    "sns.lineplot(x='report_year', y='fuel_qty_burned', data=renewables)\n",
    "sns.despine(bottom=True, left=True)\n",
    "ax.axhline(4e+6, alpha=0.2)\n",
    "ax.set_xlim(1994, 2018)\n",
    "plt.show()"
   ]
  },
  {
   "cell_type": "markdown",
   "metadata": {},
   "source": [
    "The lineplot above highlights the competitiveness of **renewable** electricity over the years.\n",
    "\n",
    "The lineplot shows an ascendance, which indicates that over the years, more fuel from renewables is being burned(consumed). There has been a marked increase in the quantity of fuel burned in the mid-nineties compared to the more recent years.\n",
    "\n",
    "The line plot seems to plummet around the year 2017; this is not an indication that renewables are becoming less competitive, rather it is due to the relatively lower number of observations taken for these years."
   ]
  },
  {
   "cell_type": "markdown",
   "metadata": {},
   "source": [
    "## Conclusion\n",
    "\n",
    "In other charts, we already established that with the exception of <span style='color:green'>nuclear</span>, both <span style='color:green'>waste</span> and <span style='color:green'>other</span> generation sources have the cheapest fuel costs.\n",
    "\n",
    "**It is clear from that renewables are becoming more competitive. One reason for this may be because the world is gradually moving towards a cheaper and cleaner energy solution.**"
   ]
  }
 ],
 "metadata": {
  "kernelspec": {
   "display_name": "Python 3",
   "language": "python",
   "name": "python3"
  },
  "language_info": {
   "codemirror_mode": {
    "name": "ipython",
    "version": 3
   },
   "file_extension": ".py",
   "mimetype": "text/x-python",
   "name": "python",
   "nbconvert_exporter": "python",
   "pygments_lexer": "ipython3",
   "version": "3.8.3"
  },
  "latex_envs": {
   "LaTeX_envs_menu_present": true,
   "autoclose": true,
   "autocomplete": true,
   "bibliofile": "biblio.bib",
   "cite_by": "apalike",
   "current_citInitial": 1,
   "eqLabelWithNumbers": true,
   "eqNumInitial": 1,
   "hotkeys": {
    "equation": "Ctrl-E",
    "itemize": "Ctrl-I"
   },
   "labels_anchors": true,
   "latex_user_defs": false,
   "report_style_numbering": false,
   "user_envs_cfg": false
  },
  "varInspector": {
   "cols": {
    "lenName": 16,
    "lenType": 16,
    "lenVar": 40
   },
   "kernels_config": {
    "python": {
     "delete_cmd_postfix": "",
     "delete_cmd_prefix": "del ",
     "library": "var_list.py",
     "varRefreshCmd": "print(var_dic_list())"
    },
    "r": {
     "delete_cmd_postfix": ") ",
     "delete_cmd_prefix": "rm(",
     "library": "var_list.r",
     "varRefreshCmd": "cat(var_dic_list()) "
    }
   },
   "types_to_exclude": [
    "module",
    "function",
    "builtin_function_or_method",
    "instance",
    "_Feature"
   ],
   "window_display": false
  }
 },
 "nbformat": 4,
 "nbformat_minor": 4
}
